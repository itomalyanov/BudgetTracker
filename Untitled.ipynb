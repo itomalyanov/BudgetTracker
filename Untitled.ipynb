{
 "cells": [
  {
   "cell_type": "code",
   "execution_count": 68,
   "id": "fad31a1d",
   "metadata": {},
   "outputs": [],
   "source": [
    "import pandas as pd\n",
    "import datetime as dt \n"
   ]
  },
  {
   "cell_type": "code",
   "execution_count": 43,
   "id": "2887a29f",
   "metadata": {},
   "outputs": [],
   "source": [
    "with open(\"Expenses.csv\", 'r') as file:\n",
    "    df = pd.DataFrame(data=file)\n",
    "    \n"
   ]
  },
  {
   "cell_type": "code",
   "execution_count": 44,
   "id": "280d6df6",
   "metadata": {},
   "outputs": [],
   "source": [
    "dff = pd.read_csv('Expenses.csv')\n",
    "\n",
    "\n",
    "df_filtered = dff[dff['Complete'] == True]\n",
    "\n",
    "\n"
   ]
  },
  {
   "cell_type": "code",
   "execution_count": 55,
   "id": "92d1b874",
   "metadata": {},
   "outputs": [],
   "source": [
    "def edit_curency(val):\n",
    "    return val.lstrip('lev')"
   ]
  },
  {
   "cell_type": "code",
   "execution_count": 69,
   "id": "57ea609e",
   "metadata": {},
   "outputs": [
    {
     "name": "stdout",
     "output_type": "stream",
     "text": [
      "<class 'pandas.core.frame.DataFrame'>\n",
      "Index: 280 entries, 0 to 279\n",
      "Data columns (total 6 columns):\n",
      " #   Column       Non-Null Count  Dtype  \n",
      "---  ------       --------------  -----  \n",
      " 0   Date         280 non-null    object \n",
      " 1   Description  280 non-null    object \n",
      " 2   Category     280 non-null    object \n",
      " 3   Income       0 non-null      float64\n",
      " 4   Debits       280 non-null    object \n",
      " 5   Complete     280 non-null    bool   \n",
      "dtypes: bool(1), float64(1), object(4)\n",
      "memory usage: 13.4+ KB\n"
     ]
    }
   ],
   "source": [
    "df_filtered.info()"
   ]
  },
  {
   "cell_type": "code",
   "execution_count": 72,
   "id": "5cc710e0",
   "metadata": {},
   "outputs": [
    {
     "ename": "AttributeError",
     "evalue": "'DatetimeProperties' object has no attribute 'to_datetime'",
     "output_type": "error",
     "traceback": [
      "\u001b[0;31m---------------------------------------------------------------------------\u001b[0m",
      "\u001b[0;31mAttributeError\u001b[0m                            Traceback (most recent call last)",
      "Cell \u001b[0;32mIn[72], line 1\u001b[0m\n\u001b[0;32m----> 1\u001b[0m df_filtered[\u001b[38;5;124m'\u001b[39m\u001b[38;5;124mnew_date\u001b[39m\u001b[38;5;124m'\u001b[39m] \u001b[38;5;241m=\u001b[39m \u001b[43mpd\u001b[49m\u001b[38;5;241;43m.\u001b[39;49m\u001b[43mto_datetime\u001b[49m\u001b[43m(\u001b[49m\u001b[43mdf_filtered\u001b[49m\u001b[43m[\u001b[49m\u001b[38;5;124;43m'\u001b[39;49m\u001b[38;5;124;43mDate\u001b[39;49m\u001b[38;5;124;43m'\u001b[39;49m\u001b[43m]\u001b[49m\u001b[43m)\u001b[49m\u001b[38;5;241;43m.\u001b[39;49m\u001b[43mdt\u001b[49m\u001b[38;5;241;43m.\u001b[39;49m\u001b[43mto_datetime\u001b[49m(\u001b[38;5;124m'\u001b[39m\u001b[38;5;124m%\u001b[39m\u001b[38;5;124mD/\u001b[39m\u001b[38;5;124m%\u001b[39m\u001b[38;5;124mm/\u001b[39m\u001b[38;5;124m%\u001b[39m\u001b[38;5;124mY\u001b[39m\u001b[38;5;124m'\u001b[39m)\n",
      "\u001b[0;31mAttributeError\u001b[0m: 'DatetimeProperties' object has no attribute 'to_datetime'"
     ]
    }
   ],
   "source": [
    "df_filtered['new_date'] = pd.to_datetime(df_filtered['Date']).dt.to_datetime('%D/%m/%Y')"
   ]
  },
  {
   "cell_type": "code",
   "execution_count": 19,
   "id": "9c952120",
   "metadata": {},
   "outputs": [
    {
     "name": "stderr",
     "output_type": "stream",
     "text": [
      "Setting default log level to \"WARN\".\n",
      "To adjust logging level use sc.setLogLevel(newLevel). For SparkR, use setLogLevel(newLevel).\n",
      "23/04/27 20:51:31 WARN NativeCodeLoader: Unable to load native-hadoop library for your platform... using builtin-java classes where applicable\n"
     ]
    }
   ],
   "source": [
    "from pyspark.sql import SparkSession\n",
    "\n",
    "spark = SparkSession \\\n",
    "    .builder \\\n",
    "    .appName(\"Python Spark SQL basic example\") \\\n",
    "    .config(\"spark.some.config.option\", \"some-value\") \\\n",
    "    .getOrCreate()\n"
   ]
  },
  {
   "cell_type": "code",
   "execution_count": 20,
   "id": "c7b23206",
   "metadata": {},
   "outputs": [
    {
     "data": {
      "text/html": [
       "\n",
       "            <div>\n",
       "                <p><b>SparkSession - in-memory</b></p>\n",
       "                \n",
       "        <div>\n",
       "            <p><b>SparkContext</b></p>\n",
       "\n",
       "            <p><a href=\"http://ilians-mbp:4040\">Spark UI</a></p>\n",
       "\n",
       "            <dl>\n",
       "              <dt>Version</dt>\n",
       "                <dd><code>v3.4.0</code></dd>\n",
       "              <dt>Master</dt>\n",
       "                <dd><code>local[*]</code></dd>\n",
       "              <dt>AppName</dt>\n",
       "                <dd><code>Python Spark SQL basic example</code></dd>\n",
       "            </dl>\n",
       "        </div>\n",
       "        \n",
       "            </div>\n",
       "        "
      ],
      "text/plain": [
       "<pyspark.sql.session.SparkSession at 0x10113b7d0>"
      ]
     },
     "execution_count": 20,
     "metadata": {},
     "output_type": "execute_result"
    }
   ],
   "source": [
    "spark"
   ]
  },
  {
   "cell_type": "code",
   "execution_count": 21,
   "id": "5eb90c25",
   "metadata": {},
   "outputs": [],
   "source": [
    "sprkdf = spark.createDataFrame(df_filtered)"
   ]
  },
  {
   "cell_type": "code",
   "execution_count": 25,
   "id": "16be66b5",
   "metadata": {},
   "outputs": [
    {
     "data": {
      "text/plain": [
       "DataFrame[Date: string, Description: string, Category: string, Income: double, Debits: string, Complete: boolean]"
      ]
     },
     "metadata": {},
     "output_type": "display_data"
    }
   ],
   "source": [
    "display(sprkdf)"
   ]
  },
  {
   "cell_type": "code",
   "execution_count": 27,
   "id": "50358545",
   "metadata": {},
   "outputs": [
    {
     "name": "stderr",
     "output_type": "stream",
     "text": [
      "\r\n",
      "[Stage 0:>                                                          (0 + 1) / 1]\r\n",
      "\r\n",
      "                                                                                \r"
     ]
    },
    {
     "name": "stdout",
     "output_type": "stream",
     "text": [
      "+----------+--------------------+--------------------+------+------+--------+\n",
      "|      Date|         Description|            Category|Income|Debits|Complete|\n",
      "+----------+--------------------+--------------------+------+------+--------+\n",
      "|12/30/2021|       Standing Desk|Household Bills (...|   NaN|640.00|    true|\n",
      "|12/30/2021|                Gass|                 Car|   NaN|200.00|    true|\n",
      "|12/31/2021|            Presents|Household Bills (...|   NaN|400.00|    true|\n",
      "| 1/10/2022|            New Book|Household Bills (...|   NaN| 16.00|    true|\n",
      "| 1/11/2022|            New Book|Household Bills (...|   NaN| 52.00|    true|\n",
      "| 1/11/2022|           Grosaries|                Food|   NaN| 13.00|    true|\n",
      "|  1/8/2022|       Laptop Cooler|Household Bills (...|   NaN|100.00|    true|\n",
      "| 1/12/2022|Finansical Education|Household Bills (...|   NaN|650.00|    true|\n",
      "| 1/15/2022|             Ski fun|Household Bills (...|   NaN|180.00|    true|\n",
      "| 1/21/2022|     Bose Headphones|Household Bills (...|   NaN|127.00|    true|\n",
      "| 1/21/2022|           new chair|Household Bills (...|   NaN|300.00|    true|\n",
      "| 1/21/2022|            desk pad|Household Bills (...|   NaN| 30.00|    true|\n",
      "| 1/22/2022|                 RAM|Household Bills (...|   NaN| 60.00|    true|\n",
      "| 1/22/2022|           Transport|Household Bills (...|   NaN| 10.00|    true|\n",
      "| 1/25/2022|         Ski googles|Household Bills (...|   NaN|100.00|    true|\n",
      "| 1/28/2022|              Helmet|Household Bills (...|   NaN|100.00|    true|\n",
      "| 1/28/2022|                Food|                Food|   NaN| 70.00|    true|\n",
      "|  2/2/2022|              Cigars|Household Bills (...|   NaN| 10.00|    true|\n",
      "|  2/3/2022|           Medicals |Household Bills (...|   NaN| 75.00|    true|\n",
      "|  2/3/2022|            New Book|Household Bills (...|   NaN| 20.00|    true|\n",
      "+----------+--------------------+--------------------+------+------+--------+\n",
      "only showing top 20 rows\n",
      "\n"
     ]
    }
   ],
   "source": [
    "sprkdf.show()"
   ]
  },
  {
   "cell_type": "code",
   "execution_count": 29,
   "id": "6e5aba89",
   "metadata": {},
   "outputs": [
    {
     "name": "stdout",
     "output_type": "stream",
     "text": [
      "+----------+--------------------+--------------------+------+---------+--------+\n",
      "|      Date|         Description|            Category|Income|   Debits|Complete|\n",
      "+----------+--------------------+--------------------+------+---------+--------+\n",
      "|12/30/2021|       Standing Desk|Household Bills (...|  null|lev640.00|    TRUE|\n",
      "|12/30/2021|                Gass|                 Car|  null|lev200.00|    TRUE|\n",
      "|12/31/2021|            Presents|Household Bills (...|  null|lev400.00|    TRUE|\n",
      "| 1/10/2022|            New Book|Household Bills (...|  null| lev16.00|    TRUE|\n",
      "| 1/11/2022|            New Book|Household Bills (...|  null| lev52.00|    TRUE|\n",
      "| 1/11/2022|           Grosaries|                Food|  null| lev13.00|    TRUE|\n",
      "|  1/8/2022|       Laptop Cooler|Household Bills (...|  null|lev100.00|    TRUE|\n",
      "| 1/12/2022|Finansical Education|Household Bills (...|  null|lev650.00|    TRUE|\n",
      "| 1/15/2022|             Ski fun|Household Bills (...|  null|lev180.00|    TRUE|\n",
      "| 1/21/2022|     Bose Headphones|Household Bills (...|  null|lev127.00|    TRUE|\n",
      "| 1/21/2022|           new chair|Household Bills (...|  null|lev300.00|    TRUE|\n",
      "| 1/21/2022|            desk pad|Household Bills (...|  null| lev30.00|    TRUE|\n",
      "| 1/22/2022|                 RAM|Household Bills (...|  null| lev60.00|    TRUE|\n",
      "| 1/22/2022|           Transport|Household Bills (...|  null| lev10.00|    TRUE|\n",
      "| 1/25/2022|         Ski googles|Household Bills (...|  null|lev100.00|    TRUE|\n",
      "| 1/28/2022|              Helmet|Household Bills (...|  null|lev100.00|    TRUE|\n",
      "| 1/28/2022|                Food|                Food|  null| lev70.00|    TRUE|\n",
      "|  2/2/2022|              Cigars|Household Bills (...|  null| lev10.00|    TRUE|\n",
      "|  2/3/2022|           Medicals |Household Bills (...|  null| lev75.00|    TRUE|\n",
      "|  2/3/2022|            New Book|Household Bills (...|  null| lev20.00|    TRUE|\n",
      "+----------+--------------------+--------------------+------+---------+--------+\n",
      "only showing top 20 rows\n",
      "\n"
     ]
    }
   ],
   "source": [
    "sp = spark.read.format(\"csv\") \\\n",
    "        .option(\"header\", True) \\\n",
    "        .load(\"Expenses.csv\")\n",
    "sp.show()"
   ]
  },
  {
   "cell_type": "code",
   "execution_count": 34,
   "id": "046a9914",
   "metadata": {},
   "outputs": [
    {
     "data": {
      "text/plain": [
       "996"
      ]
     },
     "execution_count": 34,
     "metadata": {},
     "output_type": "execute_result"
    }
   ],
   "source": [
    "sp.count()"
   ]
  },
  {
   "cell_type": "code",
   "execution_count": 39,
   "id": "d826a8cd",
   "metadata": {},
   "outputs": [
    {
     "name": "stdout",
     "output_type": "stream",
     "text": [
      "+----------+--------------------+--------------------+------+---------+--------+\n",
      "|      Date|         Description|            Category|Income|   Debits|Complete|\n",
      "+----------+--------------------+--------------------+------+---------+--------+\n",
      "|12/30/2021|       Standing Desk|Household Bills (...|  null|lev640.00|    TRUE|\n",
      "|12/30/2021|                Gass|                 Car|  null|lev200.00|    TRUE|\n",
      "|12/31/2021|            Presents|Household Bills (...|  null|lev400.00|    TRUE|\n",
      "| 1/10/2022|            New Book|Household Bills (...|  null| lev16.00|    TRUE|\n",
      "| 1/11/2022|            New Book|Household Bills (...|  null| lev52.00|    TRUE|\n",
      "| 1/11/2022|           Grosaries|                Food|  null| lev13.00|    TRUE|\n",
      "|  1/8/2022|       Laptop Cooler|Household Bills (...|  null|lev100.00|    TRUE|\n",
      "| 1/12/2022|Finansical Education|Household Bills (...|  null|lev650.00|    TRUE|\n",
      "| 1/15/2022|             Ski fun|Household Bills (...|  null|lev180.00|    TRUE|\n",
      "| 1/21/2022|     Bose Headphones|Household Bills (...|  null|lev127.00|    TRUE|\n",
      "| 1/21/2022|           new chair|Household Bills (...|  null|lev300.00|    TRUE|\n",
      "| 1/21/2022|            desk pad|Household Bills (...|  null| lev30.00|    TRUE|\n",
      "| 1/22/2022|                 RAM|Household Bills (...|  null| lev60.00|    TRUE|\n",
      "| 1/22/2022|           Transport|Household Bills (...|  null| lev10.00|    TRUE|\n",
      "| 1/25/2022|         Ski googles|Household Bills (...|  null|lev100.00|    TRUE|\n",
      "| 1/28/2022|              Helmet|Household Bills (...|  null|lev100.00|    TRUE|\n",
      "| 1/28/2022|                Food|                Food|  null| lev70.00|    TRUE|\n",
      "|  2/2/2022|              Cigars|Household Bills (...|  null| lev10.00|    TRUE|\n",
      "|  2/3/2022|           Medicals |Household Bills (...|  null| lev75.00|    TRUE|\n",
      "|  2/3/2022|            New Book|Household Bills (...|  null| lev20.00|    TRUE|\n",
      "+----------+--------------------+--------------------+------+---------+--------+\n",
      "only showing top 20 rows\n",
      "\n"
     ]
    }
   ],
   "source": [
    "from pyspark.sql.functions import col\n",
    "\n",
    "reduced = sp.where(col('Complete') == True)\n",
    "\n",
    "reduced.show()"
   ]
  },
  {
   "cell_type": "code",
   "execution_count": 41,
   "id": "255adb88",
   "metadata": {},
   "outputs": [
    {
     "name": "stdout",
     "output_type": "stream",
     "text": [
      "+----------+--------------------+--------------------+------+------+--------+\n",
      "|      Date|         Description|            Category|Income|Debits|Complete|\n",
      "+----------+--------------------+--------------------+------+------+--------+\n",
      "|12/30/2021|       Standing Desk|Household Bills (...|  null|640.00|    TRUE|\n",
      "|12/30/2021|                Gass|                 Car|  null|200.00|    TRUE|\n",
      "|12/31/2021|            Presents|Household Bills (...|  null|400.00|    TRUE|\n",
      "| 1/10/2022|            New Book|Household Bills (...|  null| 16.00|    TRUE|\n",
      "| 1/11/2022|            New Book|Household Bills (...|  null| 52.00|    TRUE|\n",
      "| 1/11/2022|           Grosaries|                Food|  null| 13.00|    TRUE|\n",
      "|  1/8/2022|       Laptop Cooler|Household Bills (...|  null|100.00|    TRUE|\n",
      "| 1/12/2022|Finansical Education|Household Bills (...|  null|650.00|    TRUE|\n",
      "| 1/15/2022|             Ski fun|Household Bills (...|  null|180.00|    TRUE|\n",
      "| 1/21/2022|     Bose Headphones|Household Bills (...|  null|127.00|    TRUE|\n",
      "| 1/21/2022|           new chair|Household Bills (...|  null|300.00|    TRUE|\n",
      "| 1/21/2022|            desk pad|Household Bills (...|  null| 30.00|    TRUE|\n",
      "| 1/22/2022|                 RAM|Household Bills (...|  null| 60.00|    TRUE|\n",
      "| 1/22/2022|           Transport|Household Bills (...|  null| 10.00|    TRUE|\n",
      "| 1/25/2022|         Ski googles|Household Bills (...|  null|100.00|    TRUE|\n",
      "| 1/28/2022|              Helmet|Household Bills (...|  null|100.00|    TRUE|\n",
      "| 1/28/2022|                Food|                Food|  null| 70.00|    TRUE|\n",
      "|  2/2/2022|              Cigars|Household Bills (...|  null| 10.00|    TRUE|\n",
      "|  2/3/2022|           Medicals |Household Bills (...|  null| 75.00|    TRUE|\n",
      "|  2/3/2022|            New Book|Household Bills (...|  null| 20.00|    TRUE|\n",
      "+----------+--------------------+--------------------+------+------+--------+\n",
      "only showing top 20 rows\n",
      "\n"
     ]
    }
   ],
   "source": [
    "from pyspark.sql.functions import regexp_replace \n",
    "\n",
    "cellings = reduced.withColumn('Debits', regexp_replace('Debits','lev', ''))\n",
    "cellings.show()\n",
    "\n"
   ]
  },
  {
   "cell_type": "code",
   "execution_count": 10,
   "id": "0d5c1901",
   "metadata": {},
   "outputs": [
    {
     "name": "stdout",
     "output_type": "stream",
     "text": [
      "97c26e3d-73f1-44cd-a54d-9d1e1be4ec6f\n"
     ]
    }
   ],
   "source": [
    "import uuid\n",
    "\n",
    "o = {\n",
    "    \"name\": \"Unknown\",\n",
    "    \"parent\": \"Uncategorized\",\n",
    "    \"uuid\": \"06335e84-2872-4914-8c5d-3ed07d2a2f16\"\n",
    "}\n",
    "\n",
    "print (uuid.uuid4())"
   ]
  },
  {
   "cell_type": "code",
   "execution_count": null,
   "id": "5f37ef3e",
   "metadata": {},
   "outputs": [],
   "source": []
  }
 ],
 "metadata": {
  "kernelspec": {
   "display_name": "Python 3 (ipykernel)",
   "language": "python",
   "name": "python3"
  },
  "language_info": {
   "codemirror_mode": {
    "name": "ipython",
    "version": 3
   },
   "file_extension": ".py",
   "mimetype": "text/x-python",
   "name": "python",
   "nbconvert_exporter": "python",
   "pygments_lexer": "ipython3",
   "version": "3.11.3"
  }
 },
 "nbformat": 4,
 "nbformat_minor": 5
}
